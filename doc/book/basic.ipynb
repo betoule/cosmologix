{
 "cells": [
  {
   "cell_type": "markdown",
   "id": "e2c407aa-5fe7-4c5d-ae92-090f2ad213d1",
   "metadata": {},
   "source": [
    "# Getting started\n",
    "\n",
    "## Installation\n",
    "\n",
    "To install `cosmologix`, you need Python 3.10 or newer. Use pip:\n",
    "\n",
    "```sh\n",
    "pip install cosmologix\n",
    "```\n",
    "\n",
    "Note: Make sure you have JAX installed, along with its dependencies. If you're using GPU acceleration, ensure CUDA and cuDNN are properly set up."
   ]
  },
  {
   "cell_type": "markdown",
   "id": "4a5f664e-5c60-4581-8b5b-22010af1ce37",
   "metadata": {},
   "source": [
    "## Usage\n",
    "Here's a quick example to get you started (look at\n",
    "[example/features.py](https://gitlab.in2p3.fr/lemaitre/cosmologix/-/blob/master/examples/features.py)\n",
    "for a more complete tour of the available features):"
   ]
  },
  {
   "cell_type": "code",
   "execution_count": null,
   "id": "0548d91e-48d3-493e-aa98-fce5963e4047",
   "metadata": {},
   "outputs": [],
   "source": [
    "from cosmologix import distances, parameters\n",
    "import jax.numpy as jnp"
   ]
  },
  {
   "cell_type": "code",
   "execution_count": null,
   "id": "6e569ad7-9be2-4037-b378-fe1b8935cfa3",
   "metadata": {},
   "outputs": [],
   "source": [
    "# Best-fit parameters to Planck 2018 are:\n",
    "print(parameters.Planck18)"
   ]
  },
  {
   "cell_type": "code",
   "execution_count": null,
   "id": "5c6583ee-c2f2-48a4-ab0a-65aa4418b938",
   "metadata": {},
   "outputs": [],
   "source": [
    "# Redshift values for supernovae\n",
    "z_values = jnp.linspace(0.1, 1.0, 10)\n",
    "\n",
    "# Compute distance modulus \n",
    "distance_modulus = distances.mu(parameters.Planck18, z_values)\n",
    "print(distance_modulus)"
   ]
  },
  {
   "cell_type": "code",
   "execution_count": null,
   "id": "ca329771-6d25-43af-9d41-c7c9a22b2fa0",
   "metadata": {},
   "outputs": [],
   "source": [
    "# Find bestfit flat w-CDM cosmology\n",
    "from cosmologix import likelihoods, fitter\n",
    "priors = [likelihoods.Planck2018(), likelihoods.DES5yr()]\n",
    "fixed = {'Omega_k':0., 'm_nu':0.06, 'Neff':3.046, 'Tcmb': 2.7255, 'wa':0.0}\n",
    "\n",
    "result = fitter.fit(priors, fixed=fixed, verbose=True)\n",
    "print(result['bestfit'])"
   ]
  },
  {
   "cell_type": "code",
   "execution_count": null,
   "id": "7717c0f0-d785-44f7-9b28-a8bfeaa509b7",
   "metadata": {},
   "outputs": [],
   "source": [
    "#Compute frequentist confidence contours. \n",
    "\n",
    "from cosmologix import contours, display\n",
    "grid = contours.frequentist_contour_2d_sparse(\n",
    "    priors,\n",
    "    grid={'Omega_bc': [0.18, 0.48, 30], 'w': [-0.6, -1.5, 30]},\n",
    "    fixed=fixed\n",
    "    )\n"
   ]
  },
  {
   "cell_type": "markdown",
   "id": "960c18c7-4f39-4770-a0c1-9203178f7108",
   "metadata": {},
   "source": [
    "The progress bar provides a rough upper bound on computation time because the actual size of the explored region is unknown at the start of the calculation.\n",
    "\n",
    "Improvements to this feature are planned.\n"
   ]
  },
  {
   "cell_type": "code",
   "execution_count": null,
   "id": "db0aff31-5698-48bd-924c-6c850831e085",
   "metadata": {},
   "outputs": [],
   "source": [
    "import matplotlib.pyplot as plt\n",
    "display.plot_contours(grid, filled=True, label='CMB+SN')\n",
    "plt.ion()\n",
    "plt.legend(loc='lower right', frameon=False)\n",
    "plt.show()"
   ]
  },
  {
   "cell_type": "markdown",
   "id": "c5c45eeb-799b-4f96-8087-de051f008fb3",
   "metadata": {},
   "source": [
    "Further examples can be found reading files in the examples directory, especially [example/features.py](https://gitlab.in2p3.fr/lemaitre/cosmologix/-/blob/master/examples/features.py)."
   ]
  },
  {
   "cell_type": "markdown",
   "id": "35b8bab9-bddf-497d-b547-166930a5e474",
   "metadata": {},
   "source": [
    "## Command line interface\n",
    "\n",
    "For most common use cases, there is also a simple command line interface to the library. You can perform fit, contour exploration and contour plotting as follows:"
   ]
  },
  {
   "cell_type": "code",
   "execution_count": null,
   "id": "9488e368-4377-4d54-b828-a3bccc44e3c0",
   "metadata": {},
   "outputs": [],
   "source": [
    "! cosmologix fit --priors PR4 --priors DESIDR2 --cosmology FwCDM -s\n",
    "! cosmologix explore Omega_bc w --priors PR4 --priors DESIDR2 --cosmology FwCDM -o contours.pkl\n",
    "! cosmologix contour contours.pkl -s -o contour.png"
   ]
  },
  {
   "cell_type": "markdown",
   "id": "26b00e8d-ce36-46bb-aed5-7872a86a49d9",
   "metadata": {},
   "source": [
    "![generated contour](contour.png)"
   ]
  }
 ],
 "metadata": {
  "kernelspec": {
   "display_name": "Python 3 (ipykernel)",
   "language": "python",
   "name": "python3"
  },
  "language_info": {
   "codemirror_mode": {
    "name": "ipython",
    "version": 3
   },
   "file_extension": ".py",
   "mimetype": "text/x-python",
   "name": "python",
   "nbconvert_exporter": "python",
   "pygments_lexer": "ipython3"
  }
 },
 "nbformat": 4,
 "nbformat_minor": 5
}
